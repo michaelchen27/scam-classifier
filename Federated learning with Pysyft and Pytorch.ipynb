{
 "cells": [
  {
   "cell_type": "markdown",
   "metadata": {},
   "source": [
    "## Import libraries"
   ]
  },
  {
   "cell_type": "code",
   "execution_count": 1,
   "metadata": {
    "ExecuteTime": {
     "end_time": "2019-06-03T19:33:40.160008Z",
     "start_time": "2019-06-03T19:33:39.344527Z"
    }
   },
   "outputs": [
    {
     "name": "stdout",
     "output_type": "stream",
     "text": [
      "Device:cuda\n",
      "Torch Ver: 1.4.0\n"
     ]
    }
   ],
   "source": [
    "import numpy as np\n",
    "from numpy import sqrt, argmax\n",
    "from sklearn.metrics import roc_auc_score, accuracy_score, f1_score, roc_curve\n",
    "import matplotlib.pyplot as plt\n",
    "\n",
    "import torch\n",
    "from torch import nn, optim\n",
    "from torch.utils.data import TensorDataset, DataLoader, Dataset\n",
    "\n",
    "import syft as sy\n",
    "\n",
    "# import opacus\n",
    "# from opacus import PrivacyEngine\n",
    "\n",
    "import warnings\n",
    "from pprint import pprint\n",
    "warnings.filterwarnings(\"ignore\")\n",
    "\n",
    "import pandas as pd\n",
    "import re\n",
    "from nltk.corpus import stopwords\n",
    "\n",
    "# from syft.frameworks.torch.nn import GRU\n",
    "from handcrafted_GRU import GRU\n",
    "# from opacus.layers import DPGRU\n",
    "\n",
    "from torch.utils.data import DataLoader, TensorDataset\n",
    "\n",
    "device = 'cuda' if torch.cuda.is_available() else 'cpu'\n",
    "print(f\"Device:{device}\")\n",
    "\n",
    "print(f\"Torch Ver: {torch.__version__}\")\n",
    "# print(f\"Opacus Ver: {opacus.__version__}\")\n",
    "# print(f\"Syft Ver: {sy.__version__}\")\n"
   ]
  },
  {
   "cell_type": "code",
   "execution_count": 2,
   "metadata": {},
   "outputs": [],
   "source": [
    "STOPWORDS = set(stopwords.words('indonesian'))\n",
    "# print(f\"STOPWORDS:\\n {STOPWORDS}\")\n",
    "\n",
    "def clean_text(text):\n",
    "    # print(f\"\\n\\nOriginal Text: {text}\")\n",
    "    text = text.lower()\n",
    "#     print(f\"\\nCase Lowered Text: {text}\")\n",
    "    text = re.sub(r'[^a-z\\s]', '', text)\n",
    "#     print(f\"\\nRegexed Text: {text}\")\n",
    "    text = ' '.join([word for word in text.split() if word not in STOPWORDS])\n",
    "#     print(f\"\\nStopwords Removed Text: {text}\")\n",
    "    return text\n",
    "\n",
    "def tokenize(text, word_to_idx):\n",
    "    tokens = []\n",
    "    for word in text.split():\n",
    "        if word in word_to_idx:\n",
    "            tokens.append(word_to_idx[word])\n",
    "        else:\n",
    "            tokens.append(0)\n",
    "    return tokens\n",
    "\n",
    "def pad_and_truncate(messages, max_length=30):\n",
    "    features = np.zeros((len(messages), max_length), dtype=int)\n",
    "#     pprint(f\"Messages: {messages}\\nFeatures: {features}\")\n",
    "    for i, sms in enumerate(messages):\n",
    "        # print(f\"\\ni: {i}\\nSMS:{sms}\")\n",
    "        if len(sms):\n",
    "            features[i, -len(sms):] = sms[:max_length]\n",
    "    return features"
   ]
  },
  {
   "cell_type": "code",
   "execution_count": 3,
   "metadata": {},
   "outputs": [],
   "source": [
    "if __name__ == '__main__':\n",
    "    data = pd.read_csv('dataset_sms_spam_v1.csv', sep=',', names=['Teks', 'Label'], encoding= 'unicode_escape')\n",
    "    data = data.sample(frac = 1)\n",
    "    #Lowercase, remove unnecessary char with regex, remove stop words\n",
    "    data.Teks = data.Teks.apply(clean_text)\n",
    "    # print(data.Teks)\n",
    "    words = set((' '.join(data.Teks)).split())\n",
    "#     print(words)\n",
    "    word_to_idx = {word: i for i, word in enumerate(words, start=1)}\n",
    "    # pprint(word_to_idx)\n",
    "    tokens = data.Teks.apply(lambda x: tokenize(x, word_to_idx))\n",
    "    # print(tokens)\n",
    "    inputs = pad_and_truncate(tokens)\n",
    "    # pprint(inputs)\n",
    "    labels = np.array((data.Label == '1').astype(int))\n",
    "\n",
    "    np.save('labels.npy', labels)\n",
    "    np.save('inputs.npy', inputs)"
   ]
  },
  {
   "cell_type": "markdown",
   "metadata": {},
   "source": [
    "## Loading data"
   ]
  },
  {
   "cell_type": "code",
   "execution_count": 4,
   "metadata": {
    "ExecuteTime": {
     "end_time": "2019-06-03T19:33:40.172746Z",
     "start_time": "2019-06-03T19:33:40.163793Z"
    }
   },
   "outputs": [],
   "source": [
    "original_inputs = np.load('inputs.npy')\n",
    "original_labels = np.load('labels.npy')"
   ]
  },
  {
   "cell_type": "markdown",
   "metadata": {},
   "source": [
    "## Training model with Federated learning"
   ]
  },
  {
   "cell_type": "markdown",
   "metadata": {},
   "source": [
    "### Training and model hyperparameters"
   ]
  },
  {
   "cell_type": "code",
   "execution_count": 5,
   "metadata": {
    "ExecuteTime": {
     "end_time": "2019-06-03T19:33:40.207763Z",
     "start_time": "2019-06-03T19:33:40.201292Z"
    }
   },
   "outputs": [],
   "source": [
    "# Training params\n",
    "TRAIN_VOCAB_SIZE = int(inputs.max()) + 1\n",
    "EPOCHS = 30\n",
    "CLIP = 5 # gradient clipping - to avoid gradient explosion (frequent in RNNs)\n",
    "lr = 0.1\n",
    "BATCH_SIZE = 30\n",
    "\n",
    "# Model params\n",
    "EMBEDDING_DIM = 50\n",
    "HIDDEN_DIM = 10\n",
    "DROPOUT = 0.2\n",
    "\n",
    "# # Privacy Engine Hyperparameters\n",
    "MAX_GRAD_NORM = 1.2\n",
    "NOISE_MULTIPLIER = 1.3\n",
    "EPSILON = 50.0\n",
    "# Delta value must be less than inverse of data amount. e.g: 100 data require leak probability value (delta) < 1/100\n",
    "DELTA = 1e-5"
   ]
  },
  {
   "cell_type": "markdown",
   "metadata": {},
   "source": [
    "### Train and Test Split"
   ]
  },
  {
   "cell_type": "code",
   "execution_count": 6,
   "metadata": {
    "ExecuteTime": {
     "end_time": "2019-06-03T19:33:40.197935Z",
     "start_time": "2019-06-03T19:33:40.186270Z"
    }
   },
   "outputs": [
    {
     "name": "stdout",
     "output_type": "stream",
     "text": [
      "Train Labels: [:-356]\n",
      "Train Inputs: [:-356]\n",
      "Test Labels: [-356:]\n",
      "Test Inputs: [-356:]\n",
      "Length Labels: 1781\n",
      "20% of Length Labels: 356.20000000000005\n",
      "1781\n"
     ]
    }
   ],
   "source": [
    "inputs = torch.tensor(original_inputs)\n",
    "labels = torch.tensor(original_labels)\n",
    "\n",
    "# splitting training and test data\n",
    "# 20% of the data will be for Tests.\n",
    "pct_test = 0.2\n",
    "\n",
    "#20% of total data\n",
    "pct_test_count = -int(len(labels)*pct_test)\n",
    "\n",
    "# Get 80% of Train LABELS from left.\n",
    "train_labels = labels[:pct_test_count]\n",
    "print(f\"Train Labels: [:{pct_test_count}]\")\n",
    "\n",
    "# Get 80% of Train INPUTS from left.\n",
    "train_inputs = inputs[:pct_test_count]\n",
    "print(f\"Train Inputs: [:{pct_test_count}]\")\n",
    "\n",
    "# Get the rest of the LABEL data for test on the right (20%) \n",
    "test_labels = labels[pct_test_count:]\n",
    "print(f\"Test Labels: [{pct_test_count}:]\")\n",
    "\n",
    "# Get the rest of the INPUT data for test on the right (20%)\n",
    "test_inputs = inputs[pct_test_count:]\n",
    "print(f\"Test Inputs: [{pct_test_count}:]\")\n",
    "\n",
    "print(f\"Length Labels: {len(labels)}\")\n",
    "print(f\"20% of Length Labels: {len(labels)*pct_test}\")\n",
    "\n",
    "SAMPLE_SIZE = len(labels)\n",
    "print(SAMPLE_SIZE)\n",
    "\n",
    "# For Local Model Evaluation\n",
    "original_test_inputs = original_inputs[pct_test_count:]\n",
    "original_test_labels = original_labels[pct_test_count:]\n"
   ]
  },
  {
   "cell_type": "markdown",
   "metadata": {},
   "source": [
    "### VirtualWorkers"
   ]
  },
  {
   "cell_type": "code",
   "execution_count": 7,
   "metadata": {
    "ExecuteTime": {
     "end_time": "2019-06-03T19:33:42.591430Z",
     "start_time": "2019-06-03T19:33:41.969220Z"
    }
   },
   "outputs": [],
   "source": [
    "# Hook that extends the Pytorch library to enable all computations with pointers of tensors sent to other workers\n",
    "hook = sy.TorchHook(torch)\n",
    "\n",
    "# Creating 2 virtual workers Syft v0.2.9\n",
    "anne = sy.VirtualWorker(hook, id=\"anne\")\n",
    "bob = sy.VirtualWorker(hook, id=\"bob\")\n",
    "\n",
    "workers = [anne, bob]\n",
    "\n",
    "# this is done to have the local worker (you on your notebook!) have a registry\n",
    "# of objects like every other workers, which is disabled by default but needed here\n",
    "# sy.local_worker.is_client_worker = False\n",
    "\n",
    "\n",
    "# threshold indexes for dataset split (one half for Bob, other half for Anne)\n",
    "train_idx = int(len(train_labels)/2)\n",
    "test_idx = int(len(test_labels)/2)\n",
    "\n",
    "\n",
    "# Sending toy datasets to virtual workers\n",
    "bob_train_dataset = sy.BaseDataset(train_inputs[:train_idx], train_labels[:train_idx]).send(bob)\n",
    "anne_train_dataset = sy.BaseDataset(train_inputs[train_idx:], train_labels[train_idx:]).send(anne)\n",
    "bob_test_dataset = sy.BaseDataset(test_inputs[:test_idx], test_labels[:test_idx]).send(bob)\n",
    "anne_test_dataset = sy.BaseDataset(test_inputs[test_idx:], test_labels[test_idx:]).send(anne)\n",
    "\n",
    "\n",
    "# Creating federated datasets, an extension of Pytorch TensorDataset class for TRAINING METHOD #1\n",
    "bob_federated_train_dataset = sy.FederatedDataset([bob_train_dataset])\n",
    "anne_federated_train_dataset = sy.FederatedDataset([anne_train_dataset])\n",
    "bob_federated_test_dataset = sy.FederatedDataset([bob_test_dataset])\n",
    "anne_federated_test_dataset = sy.FederatedDataset([anne_test_dataset])\n",
    "\n",
    "\n",
    "merged_test_dataset = list(zip(original_test_inputs, original_test_labels))\n",
    "# print(f\"Input:{original_test_inputs[1]}\\t Label:{original_test_labels[1]}\")\n",
    "# print(merged_test_dataset[0])\n",
    "\n",
    "def collate_batch(batch):\n",
    "        label_list, text_list = [], []\n",
    "        for (_label, _text) in batch:\n",
    "                label_list.append(_label)\n",
    "                text_list.append(_text)\n",
    "        return label_list, text_list\n",
    "\n",
    "original_test_dataloader = DataLoader(merged_test_dataset, batch_size=BATCH_SIZE, shuffle=True, collate_fn=collate_batch)"
   ]
  },
  {
   "cell_type": "markdown",
   "metadata": {},
   "source": [
    "### Import GRU Model"
   ]
  },
  {
   "cell_type": "code",
   "execution_count": 9,
   "metadata": {
    "ExecuteTime": {
     "end_time": "2019-06-03T19:33:42.638046Z",
     "start_time": "2019-06-03T19:33:42.617601Z"
    }
   },
   "outputs": [],
   "source": [
    "# Initiating the model\n",
    "# torch.set_default_tensor_type('torch.cuda.FloatTensor')\n",
    "# model = GRU(vocab_size=TRAIN_VOCAB_SIZE, hidden_dim=HIDDEN_DIM, embedding_dim=EMBEDDING_DIM, dropout=DROPOUT)\n",
    "# torch.set_default_tensor_type('torch.FloatTensor')\n",
    "\n",
    "def make_model():\n",
    "    model = GRU(vocab_size=TRAIN_VOCAB_SIZE, hidden_dim=HIDDEN_DIM, embedding_dim=EMBEDDING_DIM, dropout=DROPOUT)\n",
    "    # model = DPGRU(hidden_size=HIDDEN_DIM, input_size=EMBEDDING_DIM, dropout=DROPOUT)\n",
    "    return model\n",
    "    \n",
    "local_model = make_model()\n",
    "\n",
    "models, train_dataloaders, test_dataloaders, optimizers, privacy_engines = [], [], [], [], []"
   ]
  },
  {
   "cell_type": "markdown",
   "metadata": {},
   "source": [
    "### Attaching model, dataloaders, optimizers, and privacy engine to each worker"
   ]
  },
  {
   "cell_type": "code",
   "execution_count": 22,
   "metadata": {},
   "outputs": [],
   "source": [
    "for worker in workers:\n",
    "    model = make_model()\n",
    "    optimizer = optim.SGD(model.parameters(), lr=lr)\n",
    "    model.send(worker)\n",
    "    if(worker == anne):\n",
    "        train_dataset = anne_federated_train_dataset\n",
    "        test_dataset = anne_federated_test_dataset\n",
    "    elif(worker == bob):\n",
    "        train_dataset = bob_federated_train_dataset\n",
    "        test_dataset = bob_federated_test_dataset\n",
    "\n",
    "\n",
    "    train_dataloader = sy.FederatedDataLoader(train_dataset, batch_size=BATCH_SIZE, shuffle=True)\n",
    "    test_dataloader = sy.FederatedDataLoader(test_dataset, batch_size=BATCH_SIZE, shuffle=True)\n",
    "\n",
    "    models.append(model)\n",
    "    train_dataloaders.append(train_dataloader)\n",
    "    test_dataloaders.append(test_dataloader)\n",
    "    optimizers.append(optimizer)"
   ]
  },
  {
   "cell_type": "markdown",
   "metadata": {},
   "source": [
    "### Functions to aggregate remote models and to send new updates"
   ]
  },
  {
   "cell_type": "code",
   "execution_count": 23,
   "metadata": {},
   "outputs": [],
   "source": [
    "def send_new_models(local_model, models):\n",
    "    with torch.no_grad():\n",
    "        for remote_model in models:\n",
    "            for new_param, remote_param in zip(local_model.parameters(), remote_model.parameters()):\n",
    "                worker = remote_param.location\n",
    "                remote_value = new_param.send(worker)\n",
    "                remote_param.set_(remote_value)\n",
    "\n",
    "def federated_aggregation(local_model, models):\n",
    "    with torch.no_grad():\n",
    "        for local_param, *remote_params in zip(*([local_model.parameters()] + [model.parameters() for model in models])):\n",
    "            param_stack = torch.zeros(*remote_params[0].shape)\n",
    "            for remote_param in remote_params:\n",
    "                param_stack += remote_param.copy().get()\n",
    "            param_stack /= len(remote_params)\n",
    "            local_param.set_(param_stack)\n",
    "        "
   ]
  },
  {
   "cell_type": "markdown",
   "metadata": {},
   "source": [
    "### Training Method #1"
   ]
  },
  {
   "cell_type": "code",
   "execution_count": 33,
   "metadata": {},
   "outputs": [],
   "source": [
    "train_losses = [[], []]\n",
    "test_losses = []\n",
    "\n",
    "def train(epoch):\n",
    "    # 1. Send new version of the model\n",
    "    send_new_models(local_model, models)\n",
    "\n",
    "    # 2. Train remotely the models\n",
    "    for i, worker in enumerate(workers):\n",
    "        train_dataloader = train_dataloaders[i]\n",
    "        model = models[i]\n",
    "        optimizer = optimizers[i]\n",
    "        \n",
    "        model.train()\n",
    "        criterion = nn.BCELoss() # for two class classification\n",
    "        losses = []   \n",
    "    \n",
    "        for data, target in train_dataloader:            \n",
    "            data = data.to(torch.long)\n",
    "            h = torch.Tensor(torch.zeros(BATCH_SIZE, HIDDEN_DIM)).send(worker)  \n",
    "            \n",
    "            # Call zero grad to clear previous gradient before every training passses.\n",
    "            optimizer.zero_grad()\n",
    "\n",
    "            # print(f\"Data:{data}\\nTarget: {target}\\n\")\n",
    "\n",
    "            # print(f\"Worker: {worker}\\nWorker Objects: {worker.object_store._objects}\")\n",
    "\n",
    "            output, _ = model(data.to(torch.long), h)\n",
    "            loss = criterion(output.squeeze(), target.float())\n",
    "            loss.backward()\n",
    "\n",
    "            # # Clipping the gradient to avoid explosion\n",
    "            # nn.utils.clip_grad_norm_(model.parameters(), CLIP)\n",
    "\n",
    "            losses.append(loss.get()) \n",
    "            optimizer.step()\n",
    "\n",
    "        sy.local_worker.clear_objects()\n",
    "        \n",
    "\n",
    "        train_loss = sum(losses) / len(losses)\n",
    "        train_losses[i].append(train_loss.item())\n",
    "\n",
    "        print(\n",
    "            f\"[{worker.id}]\\t\"\n",
    "            f\"Train Epoch: {epoch} \\t\"\n",
    "            f\"Train Loss: {train_loss:.4f} \")\n",
    "\n",
    "    # 3. Federated aggregation of the updated models\n",
    "    federated_aggregation(local_model, models)\n",
    "\n",
    "\n",
    "def eval(epoch):\n",
    "    # 4. Evaluate the model\n",
    "    local_model.eval()\n",
    "\n",
    "    with torch.no_grad():\n",
    "        test_preds = []\n",
    "        test_labels_list = []\n",
    "        eval_losses = []\n",
    "\n",
    "        for inputs, labels in original_test_dataloader:\n",
    "            h = torch.Tensor(np.zeros((BATCH_SIZE, HIDDEN_DIM)))\n",
    "            output, _ = local_model(torch.LongTensor(inputs), h)\n",
    "            criterion = nn.BCELoss()\n",
    "            labels = torch.LongTensor(labels)\n",
    "            loss = criterion(output.squeeze(), labels.float())\n",
    "            eval_losses.append(loss)\n",
    "            preds = output.squeeze()\n",
    "            test_preds += list(preds.numpy())\n",
    "            test_labels_list += list(labels.numpy().astype(int))\n",
    "    \n",
    "    score = roc_auc_score(test_labels_list, test_preds)\n",
    "\n",
    "    eval_loss = sum(eval_losses) / len(eval_losses)\n",
    "    test_losses.append(eval_loss.item())\n",
    "    \n",
    "\n",
    "    print(\n",
    "        f\"Eval Epoch: {epoch} \\t\"\n",
    "        f\"AUC: {score:.3%} \\t\"\n",
    "        f\"Eval Loss: {eval_loss:.4f} \\n\")\n",
    "\n"
   ]
  },
  {
   "cell_type": "code",
   "execution_count": 34,
   "metadata": {},
   "outputs": [
    {
     "name": "stdout",
     "output_type": "stream",
     "text": [
      "[anne]\tTrain Epoch: 0 \tTrain Loss: 0.6747 \n",
      "[bob]\tTrain Epoch: 0 \tTrain Loss: 0.7064 \n",
      "Eval Epoch: 0 \tAUC: 52.884% \tEval Loss: 0.6618 \n",
      "[anne]\tTrain Epoch: 1 \tTrain Loss: 0.6707 \n",
      "[bob]\tTrain Epoch: 1 \tTrain Loss: 0.6981 \n",
      "Eval Epoch: 1 \tAUC: 52.892% \tEval Loss: 0.6607 \n",
      "[anne]\tTrain Epoch: 2 \tTrain Loss: 0.6781 \n",
      "[bob]\tTrain Epoch: 2 \tTrain Loss: 0.7051 \n",
      "Eval Epoch: 2 \tAUC: 52.900% \tEval Loss: 0.6591 \n",
      "[anne]\tTrain Epoch: 3 \tTrain Loss: 0.6717 \n",
      "[bob]\tTrain Epoch: 3 \tTrain Loss: 0.7023 \n",
      "Eval Epoch: 3 \tAUC: 52.912% \tEval Loss: 0.6579 \n",
      "[anne]\tTrain Epoch: 4 \tTrain Loss: 0.6723 \n",
      "[bob]\tTrain Epoch: 4 \tTrain Loss: 0.7011 \n",
      "Eval Epoch: 4 \tAUC: 52.928% \tEval Loss: 0.6570 \n",
      "[anne]\tTrain Epoch: 5 \tTrain Loss: 0.6668 \n",
      "[bob]\tTrain Epoch: 5 \tTrain Loss: 0.6954 \n",
      "Eval Epoch: 5 \tAUC: 52.932% \tEval Loss: 0.6558 \n",
      "[anne]\tTrain Epoch: 6 \tTrain Loss: 0.6658 \n",
      "[bob]\tTrain Epoch: 6 \tTrain Loss: 0.7013 \n",
      "Eval Epoch: 6 \tAUC: 52.948% \tEval Loss: 0.6547 \n",
      "[anne]\tTrain Epoch: 7 \tTrain Loss: 0.6621 \n",
      "[bob]\tTrain Epoch: 7 \tTrain Loss: 0.6929 \n",
      "Eval Epoch: 7 \tAUC: 52.968% \tEval Loss: 0.6533 \n",
      "[anne]\tTrain Epoch: 8 \tTrain Loss: 0.6674 \n",
      "[bob]\tTrain Epoch: 8 \tTrain Loss: 0.7052 \n",
      "Eval Epoch: 8 \tAUC: 52.964% \tEval Loss: 0.6527 \n",
      "[anne]\tTrain Epoch: 9 \tTrain Loss: 0.6598 \n",
      "[bob]\tTrain Epoch: 9 \tTrain Loss: 0.7017 \n",
      "Eval Epoch: 9 \tAUC: 52.997% \tEval Loss: 0.6514 \n",
      "[anne]\tTrain Epoch: 10 \tTrain Loss: 0.6561 \n",
      "[bob]\tTrain Epoch: 10 \tTrain Loss: 0.6889 \n",
      "Eval Epoch: 10 \tAUC: 53.045% \tEval Loss: 0.6503 \n",
      "[anne]\tTrain Epoch: 11 \tTrain Loss: 0.6602 \n",
      "[bob]\tTrain Epoch: 11 \tTrain Loss: 0.6872 \n",
      "Eval Epoch: 11 \tAUC: 53.033% \tEval Loss: 0.6490 \n",
      "[anne]\tTrain Epoch: 12 \tTrain Loss: 0.6614 \n",
      "[bob]\tTrain Epoch: 12 \tTrain Loss: 0.6863 \n",
      "Eval Epoch: 12 \tAUC: 53.057% \tEval Loss: 0.6478 \n",
      "[anne]\tTrain Epoch: 13 \tTrain Loss: 0.6617 \n",
      "[bob]\tTrain Epoch: 13 \tTrain Loss: 0.6886 \n",
      "Eval Epoch: 13 \tAUC: 53.085% \tEval Loss: 0.6472 \n",
      "[anne]\tTrain Epoch: 14 \tTrain Loss: 0.6553 \n",
      "[bob]\tTrain Epoch: 14 \tTrain Loss: 0.6802 \n",
      "Eval Epoch: 14 \tAUC: 53.126% \tEval Loss: 0.6467 \n",
      "[anne]\tTrain Epoch: 15 \tTrain Loss: 0.6505 \n",
      "[bob]\tTrain Epoch: 15 \tTrain Loss: 0.6833 \n",
      "Eval Epoch: 15 \tAUC: 53.138% \tEval Loss: 0.6454 \n",
      "[anne]\tTrain Epoch: 16 \tTrain Loss: 0.6586 \n",
      "[bob]\tTrain Epoch: 16 \tTrain Loss: 0.6895 \n",
      "Eval Epoch: 16 \tAUC: 53.150% \tEval Loss: 0.6443 \n",
      "[anne]\tTrain Epoch: 17 \tTrain Loss: 0.6568 \n",
      "[bob]\tTrain Epoch: 17 \tTrain Loss: 0.6770 \n",
      "Eval Epoch: 17 \tAUC: 53.170% \tEval Loss: 0.6435 \n",
      "[anne]\tTrain Epoch: 18 \tTrain Loss: 0.6595 \n",
      "[bob]\tTrain Epoch: 18 \tTrain Loss: 0.6763 \n",
      "Eval Epoch: 18 \tAUC: 53.210% \tEval Loss: 0.6427 \n",
      "[anne]\tTrain Epoch: 19 \tTrain Loss: 0.6538 \n",
      "[bob]\tTrain Epoch: 19 \tTrain Loss: 0.6797 \n",
      "Eval Epoch: 19 \tAUC: 53.198% \tEval Loss: 0.6416 \n",
      "[anne]\tTrain Epoch: 20 \tTrain Loss: 0.6495 \n",
      "[bob]\tTrain Epoch: 20 \tTrain Loss: 0.6780 \n",
      "Eval Epoch: 20 \tAUC: 53.275% \tEval Loss: 0.6409 \n",
      "[anne]\tTrain Epoch: 21 \tTrain Loss: 0.6529 \n",
      "[bob]\tTrain Epoch: 21 \tTrain Loss: 0.6841 \n",
      "Eval Epoch: 21 \tAUC: 53.267% \tEval Loss: 0.6395 \n",
      "[anne]\tTrain Epoch: 22 \tTrain Loss: 0.6436 \n",
      "[bob]\tTrain Epoch: 22 \tTrain Loss: 0.6776 \n",
      "Eval Epoch: 22 \tAUC: 53.291% \tEval Loss: 0.6385 \n",
      "[anne]\tTrain Epoch: 23 \tTrain Loss: 0.6475 \n",
      "[bob]\tTrain Epoch: 23 \tTrain Loss: 0.6736 \n",
      "Eval Epoch: 23 \tAUC: 53.323% \tEval Loss: 0.6378 \n",
      "[anne]\tTrain Epoch: 24 \tTrain Loss: 0.6444 \n",
      "[bob]\tTrain Epoch: 24 \tTrain Loss: 0.6739 \n",
      "Eval Epoch: 24 \tAUC: 53.356% \tEval Loss: 0.6369 \n",
      "[anne]\tTrain Epoch: 25 \tTrain Loss: 0.6440 \n",
      "[bob]\tTrain Epoch: 25 \tTrain Loss: 0.6687 \n",
      "Eval Epoch: 25 \tAUC: 53.356% \tEval Loss: 0.6367 \n",
      "[anne]\tTrain Epoch: 26 \tTrain Loss: 0.6421 \n",
      "[bob]\tTrain Epoch: 26 \tTrain Loss: 0.6747 \n",
      "Eval Epoch: 26 \tAUC: 53.388% \tEval Loss: 0.6357 \n",
      "[anne]\tTrain Epoch: 27 \tTrain Loss: 0.6458 \n",
      "[bob]\tTrain Epoch: 27 \tTrain Loss: 0.6744 \n",
      "Eval Epoch: 27 \tAUC: 53.388% \tEval Loss: 0.6342 \n",
      "[anne]\tTrain Epoch: 28 \tTrain Loss: 0.6412 \n",
      "[bob]\tTrain Epoch: 28 \tTrain Loss: 0.6717 \n",
      "Eval Epoch: 28 \tAUC: 53.428% \tEval Loss: 0.6341 \n",
      "[anne]\tTrain Epoch: 29 \tTrain Loss: 0.6375 \n",
      "[bob]\tTrain Epoch: 29 \tTrain Loss: 0.6759 \n",
      "Eval Epoch: 29 \tAUC: 53.485% \tEval Loss: 0.6329 \n"
     ]
    }
   ],
   "source": [
    "for epoch in range(EPOCHS):\n",
    "    train(epoch)\n",
    "    eval(epoch)"
   ]
  },
  {
   "cell_type": "code",
   "execution_count": 41,
   "metadata": {},
   "outputs": [
    {
     "data": {
      "image/png": "[encoded data removed]",
      "text/plain": [
       "<Figure size 432x288 with 1 Axes>"
      ]
     },
     "metadata": {
      "needs_background": "light"
     },
     "output_type": "display_data"
    }
   ],
   "source": [
    "plt.plot(train_losses[0], 'r')\n",
    "plt.plot(train_losses[1], 'g')\n",
    "plt.plot(test_losses, 'b')\n",
    "plt.legend(['Training Loss Anne', 'Training Loss Bob' , 'Eval Loss'])\n",
    "plt.xlabel('Epoch')\n",
    "plt.ylabel('Train Loss')\n",
    "plt.show()"
   ]
  },
  {
   "cell_type": "markdown",
   "metadata": {},
   "source": [
    "### Training Method #2"
   ]
  },
  {
   "cell_type": "markdown",
   "metadata": {},
   "source": [
    "For now, PySyft does not support optimizers with momentum. Therefore, we are going to stick with the classical [Stochastic Gradient Descent](https://pytorch.org/docs/stable/optim.html#torch.optim.SGD) optimizer.\n",
    "\n",
    "As our task consists of a binary classification, we are going to use the [Binary Cross Entropy Loss](https://pytorch.org/docs/stable/nn.html#torch.nn.BCELoss)."
   ]
  },
  {
   "cell_type": "code",
   "execution_count": 10,
   "metadata": {
    "ExecuteTime": {
     "end_time": "2019-06-03T20:00:23.084933Z",
     "start_time": "2019-06-03T20:00:23.078688Z"
    }
   },
   "outputs": [],
   "source": [
    "# Defining loss and optimizer\n",
    "second_model = make_model()\n",
    "criterion = nn.BCELoss()\n",
    "optimizer = optim.SGD(second_model.parameters(), lr=lr)\n",
    "\n",
    "# Create data\n",
    "# # Creating federated datasets, an extension of Pytorch TensorDataset class\n",
    "federated_train_dataset = sy.FederatedDataset([bob_train_dataset, anne_train_dataset])\n",
    "federated_test_dataset = sy.FederatedDataset([bob_test_dataset, anne_test_dataset])\n",
    "\n",
    "# Creating federated dataloaders, an extension of Pytorch DataLoader class for TRAINIG METHOD #2\n",
    "federated_train_loader = sy.FederatedDataLoader(federated_train_dataset, shuffle=True, batch_size=BATCH_SIZE)\n",
    "federated_test_loader = sy.FederatedDataLoader(federated_test_dataset, shuffle=True, batch_size=BATCH_SIZE)\n",
    "\n"
   ]
  },
  {
   "cell_type": "code",
   "execution_count": 11,
   "metadata": {
    "ExecuteTime": {
     "end_time": "2019-06-03T19:56:01.459697Z",
     "start_time": "2019-06-03T19:33:42.666174Z"
    },
    "code_folding": []
   },
   "outputs": [
    {
     "name": "stdout",
     "output_type": "stream",
     "text": [
      "Epoch 1/100...      AUC: 55.642%...      Training loss: 0.64122...      Validation loss: 0.57901\n",
      "Trigger Times: 0\n",
      "Epoch 2/100...      AUC: 61.474%...      Training loss: 0.57232...      Validation loss: 0.55933\n",
      "Trigger Times: 0\n",
      "Epoch 3/100...      AUC: 65.253%...      Training loss: 0.55890...      Validation loss: 0.54770\n",
      "Trigger Times: 0\n",
      "Epoch 4/100...      AUC: 67.443%...      Training loss: 0.54732...      Validation loss: 0.53898\n",
      "Trigger Times: 0\n",
      "Epoch 5/100...      AUC: 68.270%...      Training loss: 0.53920...      Validation loss: 0.53270\n",
      "Trigger Times: 0\n",
      "Epoch 6/100...      AUC: 69.548%...      Training loss: 0.52800...      Validation loss: 0.52599\n",
      "Trigger Times: 0\n",
      "Epoch 7/100...      AUC: 70.593%...      Training loss: 0.53059...      Validation loss: 0.52134\n",
      "Trigger Times: 0\n",
      "Epoch 8/100...      AUC: 71.658%...      Training loss: 0.51974...      Validation loss: 0.51621\n",
      "Trigger Times: 0\n",
      "Epoch 9/100...      AUC: 72.283%...      Training loss: 0.50837...      Validation loss: 0.51169\n",
      "Trigger Times: 0\n",
      "Epoch 10/100...      AUC: 73.013%...      Training loss: 0.49716...      Validation loss: 0.50726\n",
      "Trigger Times: 0\n",
      "Epoch 11/100...      AUC: 74.295%...      Training loss: 0.48962...      Validation loss: 0.50117\n",
      "Trigger Times: 0\n",
      "Epoch 12/100...      AUC: 75.146%...      Training loss: 0.48263...      Validation loss: 0.49550\n",
      "Trigger Times: 0\n",
      "Epoch 13/100...      AUC: 76.013%...      Training loss: 0.47136...      Validation loss: 0.48945\n",
      "Trigger Times: 0\n",
      "Epoch 14/100...      AUC: 76.913%...      Training loss: 0.45863...      Validation loss: 0.48188\n",
      "Trigger Times: 0\n",
      "Epoch 15/100...      AUC: 77.933%...      Training loss: 0.44302...      Validation loss: 0.47401\n",
      "Trigger Times: 0\n",
      "Epoch 16/100...      AUC: 78.683%...      Training loss: 0.43366...      Validation loss: 0.46892\n",
      "Trigger Times: 0\n",
      "Epoch 17/100...      AUC: 79.595%...      Training loss: 0.42337...      Validation loss: 0.46044\n",
      "Trigger Times: 0\n",
      "Epoch 18/100...      AUC: 80.631%...      Training loss: 0.40945...      Validation loss: 0.45335\n",
      "Trigger Times: 0\n",
      "Epoch 19/100...      AUC: 81.131%...      Training loss: 0.39986...      Validation loss: 0.44850\n",
      "Trigger Times: 0\n",
      "Epoch 20/100...      AUC: 81.656%...      Training loss: 0.38541...      Validation loss: 0.44265\n",
      "Trigger Times: 0\n",
      "Epoch 21/100...      AUC: 82.111%...      Training loss: 0.37324...      Validation loss: 0.43482\n",
      "Trigger Times: 0\n",
      "Epoch 22/100...      AUC: 82.890%...      Training loss: 0.35577...      Validation loss: 0.43158\n",
      "Trigger Times: 0\n",
      "Epoch 23/100...      AUC: 83.862%...      Training loss: 0.35151...      Validation loss: 0.42483\n",
      "Trigger Times: 0\n",
      "Epoch 24/100...      AUC: 84.293%...      Training loss: 0.33660...      Validation loss: 0.41690\n",
      "Trigger Times: 0\n",
      "Epoch 25/100...      AUC: 84.854%...      Training loss: 0.33310...      Validation loss: 0.41286\n",
      "Trigger Times: 0\n",
      "Epoch 26/100...      AUC: 84.894%...      Training loss: 0.32591...      Validation loss: 0.40852\n",
      "Trigger Times: 0\n",
      "Epoch 27/100...      AUC: 85.257%...      Training loss: 0.31215...      Validation loss: 0.40776\n",
      "Trigger Times: 0\n",
      "Epoch 28/100...      AUC: 85.366%...      Training loss: 0.29416...      Validation loss: 0.40766\n",
      "Trigger Times: 0\n",
      "Epoch 29/100...      AUC: 86.225%...      Training loss: 0.29208...      Validation loss: 0.41598\n",
      "Trigger Times: 1\n",
      "Epoch 30/100...      AUC: 86.007%...      Training loss: 0.27785...      Validation loss: 0.40251\n",
      "Trigger Times: 0\n",
      "Epoch 31/100...      AUC: 86.342%...      Training loss: 0.26787...      Validation loss: 0.39740\n",
      "Trigger Times: 0\n",
      "Epoch 32/100...      AUC: 86.173%...      Training loss: 0.26142...      Validation loss: 0.40487\n",
      "Trigger Times: 1\n",
      "Epoch 33/100...      AUC: 86.455%...      Training loss: 0.24164...      Validation loss: 0.40653\n",
      "Trigger Times: 2\n",
      "Epoch 34/100...      AUC: 86.608%...      Training loss: 0.24496...      Validation loss: 0.41096\n",
      "Trigger Times: 3\n",
      "EARLY STOPPING! START ING TEST PROCESS...\n"
     ]
    }
   ],
   "source": [
    "train_losses = []\n",
    "test_losses = []\n",
    "\n",
    "# For Early Stopping\n",
    "last_loss = 100\n",
    "patience = 3\n",
    "trigger_times = 0\n",
    "SECOND_EPOCHS = 100\n",
    "\n",
    "for e in range(SECOND_EPOCHS):\n",
    "    \n",
    "    ######### Training ##########\n",
    "\n",
    "    losses = []\n",
    "    # Batch loop\n",
    "    for inputs, labels in federated_train_loader:\n",
    "        # Location of current batch\n",
    "        worker = inputs.location\n",
    "        # Initialize hidden state and send it to worker\n",
    "        h = torch.Tensor(np.zeros((BATCH_SIZE, HIDDEN_DIM))).send(worker)\n",
    "        # Send model to current worker\n",
    "        second_model.send(worker)\n",
    "        # Setting accumulated gradients to zero before backward step\n",
    "        optimizer.zero_grad()\n",
    "        # Output from the model\n",
    "        output, _ = second_model(inputs.to(torch.long), h)\n",
    "        # print(f\"Output:{output}\")\n",
    "        # Calculate the loss and perform backprop\n",
    "        # print(f\"Output Shape: {output.shape} Labels Shape: {labels.shape}\")\n",
    "        loss = criterion(output.squeeze(), labels.float())\n",
    "        loss.backward()\n",
    "        # # Clipping the gradient to avoid explosion\n",
    "        # nn.utils.clip_grad_norm_(model.parameters(), CLIP)\n",
    "        # Backpropagation step\n",
    "        optimizer.step() \n",
    "        # Get the model back to the local worker\n",
    "        second_model.get()\n",
    "        losses.append(loss.get())\n",
    "    \n",
    "    \n",
    "    ######## Evaluation ##########\n",
    "    \n",
    "    # Model in evaluation mode\n",
    "    second_model.eval()\n",
    "\n",
    "    with torch.no_grad():\n",
    "        test_preds = []\n",
    "        test_labels_list = []\n",
    "        eval_losses = []\n",
    "\n",
    "        for inputs, labels in federated_test_loader:\n",
    "            # get current location\n",
    "            worker = inputs.location\n",
    "            # Initialize hidden state and send it to worker\n",
    "            h = torch.Tensor(np.zeros((BATCH_SIZE, HIDDEN_DIM))).send(worker)    \n",
    "            # Send model to worker\n",
    "            second_model.send(worker)\n",
    "            output, _ = second_model(inputs.to(torch.long), h)\n",
    "            # loss = criterion(output.squeeze(), labels.float())\n",
    "            loss = criterion(output, labels.float())\n",
    "            eval_losses.append(loss.get())\n",
    "            preds = output.squeeze().get()\n",
    "            test_preds += list(preds.numpy())\n",
    "            test_labels_list += list(labels.get().numpy().astype(int))\n",
    "            # Get the model back to the local worker\n",
    "            second_model.get()\n",
    "\n",
    "    # Check test preds\n",
    "    score = roc_auc_score(test_labels_list, test_preds)\n",
    "\n",
    "    train_loss = sum(losses)/len(losses)\n",
    "    eval_loss = sum(eval_losses)/len(eval_losses)\n",
    "    \n",
    "    train_losses.append(train_loss.item())\n",
    "    test_losses.append(eval_loss.item())\n",
    "    \n",
    "    print(\"Epoch {}/{}...  \\\n",
    "    AUC: {:.3%}...  \\\n",
    "    Training loss: {:.5f}...  \\\n",
    "    Validation loss: {:.5f}\".format(e+1, SECOND_EPOCHS, score, train_loss, eval_loss))\n",
    "    \n",
    "    # Early Stopping\n",
    "    if eval_loss > last_loss:\n",
    "        trigger_times += 1\n",
    "        print(f\"Trigger Times: {trigger_times}\")\n",
    "        \n",
    "        if trigger_times >= patience:\n",
    "            print(\"EARLY STOPPING! START ING TEST PROCESS...\")\n",
    "            break\n",
    "    else:\n",
    "        print(f\"Trigger Times: 0\")\n",
    "        trigger_times = 0\n",
    "    \n",
    "    last_loss = eval_loss\n",
    "    \n",
    "    second_model.train()"
   ]
  },
  {
   "cell_type": "markdown",
   "metadata": {},
   "source": [
    "### Plot Training Method #2 Losses"
   ]
  },
  {
   "cell_type": "code",
   "execution_count": 12,
   "metadata": {},
   "outputs": [
    {
     "name": "stdout",
     "output_type": "stream",
     "text": [
      "Train Losses: [0.6412206292152405, 0.5723159909248352, 0.5589024424552917, 0.5473231673240662, 0.5391964316368103, 0.5279951691627502, 0.5305888056755066, 0.5197435021400452, 0.5083691477775574, 0.49716174602508545, 0.48961833119392395, 0.4826319217681885, 0.4713580310344696, 0.45863309502601624, 0.4430234730243683, 0.4336622655391693, 0.42336925864219666, 0.4094526469707489, 0.39985525608062744, 0.3854055404663086, 0.37323713302612305, 0.35577407479286194, 0.35150590538978577, 0.33659911155700684, 0.3330974280834198, 0.32590726017951965, 0.31215426325798035, 0.2941572964191437, 0.2920787036418915, 0.2778540551662445, 0.2678714096546173, 0.2614210844039917, 0.2416430562734604, 0.24496011435985565]\n"
     ]
    },
    {
     "data": {
      "image/png": "[encoded data removed]",
      "text/plain": [
       "<Figure size 432x288 with 1 Axes>"
      ]
     },
     "metadata": {
      "needs_background": "light"
     },
     "output_type": "display_data"
    }
   ],
   "source": [
    "print(f\"Train Losses: {train_losses}\")\n",
    "plt.plot(train_losses, 'r')\n",
    "plt.plot(test_losses, 'b')\n",
    "plt.legend(['Training Loss', 'Test Loss'])\n",
    "plt.xlabel('Epoch')\n",
    "plt.ylabel('Train Loss')\n",
    "plt.show()"
   ]
  },
  {
   "cell_type": "markdown",
   "metadata": {},
   "source": [
    "### Saving model for inference"
   ]
  },
  {
   "cell_type": "code",
   "execution_count": 14,
   "metadata": {},
   "outputs": [],
   "source": [
    "# Save\n",
    "PATH = \"state_dict_model.pt\"\n",
    "torch.save(second_model.state_dict(), PATH)"
   ]
  },
  {
   "cell_type": "markdown",
   "metadata": {},
   "source": [
    "### Ask for input and pre-process text"
   ]
  },
  {
   "cell_type": "code",
   "execution_count": 16,
   "metadata": {},
   "outputs": [],
   "source": [
    "data = pd.read_csv('manually_collected_sms_600.csv', sep=',', names=['Teks', 'Label'])\n",
    "data = data.sample(frac = 1)\n",
    "# Lowercase, remove unnecessary char with regex, remove stop words\n",
    "data.Teks = data.Teks.apply(clean_text)\n",
    "#     print(data.Teks)\n",
    "words = set((' '.join(data.Teks)).split())\n",
    "#     print(words)\n",
    "word_to_idx = {word: i for i, word in enumerate(words, start=1)}\n",
    "#     pprint(word_to_idx)\n",
    "tokens = data.Teks.apply(lambda x: tokenize(x, word_to_idx))\n",
    "#     print(tokens)\n",
    "inputs = pad_and_truncate(tokens)\n",
    "#     pprint(inputs)\n",
    "labels = np.array((data.Label == '1').astype(int))\n",
    "\n",
    "np.save('test_labels.npy', labels)\n",
    "np.save('test_inputs.npy', inputs)\n",
    "\n",
    "test_inputs = torch.tensor(np.load('test_inputs.npy'))\n",
    "test_labels = torch.tensor(np.load('test_labels.npy'))\n"
   ]
  },
  {
   "cell_type": "code",
   "execution_count": 17,
   "metadata": {},
   "outputs": [],
   "source": [
    "# Testing params\n",
    "VOCAB_SIZE = int(test_inputs.max()) + 1\n",
    "TEST_VOCAB_SIZE = TRAIN_VOCAB_SIZE\n",
    "lr = 0.001\n",
    "BATCH_SIZE = 30\n",
    "\n",
    "# Model params\n",
    "EMBEDDING_DIM = 50\n",
    "HIDDEN_DIM = 10\n",
    "DROPOUT = 0.2"
   ]
  },
  {
   "cell_type": "markdown",
   "metadata": {},
   "source": [
    "### Load Model"
   ]
  },
  {
   "cell_type": "code",
   "execution_count": 18,
   "metadata": {},
   "outputs": [
    {
     "data": {
      "text/plain": [
       "GRU(\n",
       "  (dropout): Dropout(p=0.2, inplace=False)\n",
       "  (embedding): Embedding(5334, 50)\n",
       "  (gru_cell): GRU_Cell(\n",
       "    (fc_ir): Linear(in_features=50, out_features=10, bias=True)\n",
       "    (fc_hr): Linear(in_features=10, out_features=10, bias=True)\n",
       "    (fc_iz): Linear(in_features=50, out_features=10, bias=True)\n",
       "    (fc_hz): Linear(in_features=10, out_features=10, bias=True)\n",
       "    (fc_in): Linear(in_features=50, out_features=10, bias=True)\n",
       "    (fc_hn): Linear(in_features=10, out_features=10, bias=True)\n",
       "  )\n",
       "  (fc): Linear(in_features=10, out_features=1, bias=True)\n",
       "  (sigmoid): Sigmoid()\n",
       ")"
      ]
     },
     "execution_count": 18,
     "metadata": {},
     "output_type": "execute_result"
    }
   ],
   "source": [
    "PATH = \"state_dict_model.pt\"\n",
    "load_model = GRU(vocab_size=TEST_VOCAB_SIZE, hidden_dim=HIDDEN_DIM, embedding_dim=EMBEDDING_DIM, dropout=DROPOUT)\n",
    "load_model.load_state_dict(torch.load(PATH))\n",
    "load_model.eval()"
   ]
  },
  {
   "cell_type": "code",
   "execution_count": 21,
   "metadata": {},
   "outputs": [
    {
     "name": "stdout",
     "output_type": "stream",
     "text": [
      "Best Threshold=0.116163, G-Mean=0.679\n",
      "Amount of test data: 600\n"
     ]
    },
    {
     "data": {
      "image/png": "[encoded data removed]",
      "text/plain": [
       "<Figure size 432x288 with 1 Axes>"
      ]
     },
     "metadata": {
      "needs_background": "light"
     },
     "output_type": "display_data"
    },
    {
     "name": "stdout",
     "output_type": "stream",
     "text": [
      "ROC Accuracy Score: 0.711111111111111\n",
      "\n",
      "Accuracy Score: 0.68\n"
     ]
    }
   ],
   "source": [
    "from sklearn.metrics import f1_score\n",
    "criterion = nn.BCELoss()\n",
    "optimizer = optim.SGD(second_model.parameters(), lr=lr)\n",
    "\n",
    "test_dataset = TensorDataset(test_inputs, test_labels)\n",
    "test_loader = DataLoader(test_dataset, batch_size=BATCH_SIZE, shuffle=True)\n",
    "\n",
    "test_losses = []\n",
    "\n",
    "with torch.no_grad():\n",
    "    test_preds = []\n",
    "    test_labels_list = []\n",
    "    eval_losses = []\n",
    "\n",
    "    for inputs, labels in test_loader:\n",
    "        h = torch.Tensor(np.zeros((BATCH_SIZE, HIDDEN_DIM)))\n",
    "\n",
    "        output, _ = second_model(inputs.to(torch.long), h)\n",
    "        loss = criterion(output.squeeze(), labels.float())\n",
    "        eval_losses.append(loss)\n",
    "        preds = output.squeeze()\n",
    "        test_preds += list(preds.numpy())\n",
    "        test_labels_list += list(labels.numpy().astype(int))\n",
    "\n",
    "\n",
    "roc_acc_score = roc_auc_score(test_labels_list, test_preds)\n",
    "\n",
    "# Calculate ROC Curve\n",
    "fpr, tpr, thresholds = roc_curve(test_labels_list, test_preds)\n",
    "# calculate the g-mean for each threshold\n",
    "gmeans = sqrt(tpr * (1-fpr))\n",
    "# Index of largest G-means\n",
    "ix = argmax(gmeans)\n",
    "print('Best Threshold=%f, G-Mean=%.3f' % (thresholds[ix], gmeans[ix]))\n",
    "threshold = thresholds[ix]\n",
    "\n",
    "# Print how many data is being tested\n",
    "print(f\"Amount of test data: {len(test_labels_list)}\")\n",
    "\n",
    "\n",
    "# Plot ROC Curve\n",
    "plt.plot([0,1], [0,1], linestyle='--', label='No Skill')\n",
    "plt.plot(fpr, tpr, marker='.', label='Logistic')\n",
    "# axis labels\n",
    "plt.xlabel('False Positive Rate')\n",
    "plt.ylabel('True Positive Rate')\n",
    "plt.legend()\n",
    "# show the plot\n",
    "plt.show()\n",
    "\n",
    "    \n",
    "print(f\"ROC Accuracy Score: {roc_acc_score}\")\n",
    "\n",
    "# Normalize probability with threshold\n",
    "test_preds_thresholded = np.where(test_preds > threshold, 1, 0)\n",
    "for i in range(len(test_preds)-1140):\n",
    "    print(\"Test Preds Prob: {}    \\\n",
    "    Test Preds Label: {}  \\\n",
    "    True Label: {}  \\\n",
    "    \".format(test_preds[i], test_preds_thresholded[i], test_labels_list[i]))\n",
    "\n",
    "acc_score = accuracy_score(test_labels_list, test_preds_thresholded)\n",
    "print(f\"\\nAccuracy Score: {acc_score}\")\n",
    "\n",
    "# Calculate F1 Score\n",
    "# f1_score = f1_score(test_labels_list, test_preds_thresholded)\n",
    "# print(f\"F1 Score: {f1_score}\")\n"
   ]
  },
  {
   "cell_type": "code",
   "execution_count": null,
   "metadata": {},
   "outputs": [],
   "source": []
  }
 ],
 "metadata": {
  "hide_input": false,
  "interpreter": {
   "hash": "27726a6b9d0b3aecf19ddb8fb5d165165384e9a9dccccc704489801e8c9c2418"
  },
  "kernelspec": {
   "display_name": "Python 3.7.5 ('spam_classifier')",
   "language": "python",
   "name": "python3"
  },
  "language_info": {
   "codemirror_mode": {
    "name": "ipython",
    "version": 3
   },
   "file_extension": ".py",
   "mimetype": "text/x-python",
   "name": "python",
   "nbconvert_exporter": "python",
   "pygments_lexer": "ipython3",
   "version": "3.7.1"
  },
  "toc": {
   "base_numbering": 1,
   "nav_menu": {},
   "number_sections": true,
   "sideBar": true,
   "skip_h1_title": true,
   "title_cell": "Table of Contents",
   "title_sidebar": "Contents",
   "toc_cell": false,
   "toc_position": {},
   "toc_section_display": true,
   "toc_window_display": false
  },
  "varInspector": {
   "cols": {
    "lenName": 16,
    "lenType": 16,
    "lenVar": 40
   },
   "kernels_config": {
    "python": {
     "delete_cmd_postfix": "",
     "delete_cmd_prefix": "del ",
     "library": "var_list.py",
     "varRefreshCmd": "print(var_dic_list())"
    },
    "r": {
     "delete_cmd_postfix": ") ",
     "delete_cmd_prefix": "rm(",
     "library": "var_list.r",
     "varRefreshCmd": "cat(var_dic_list()) "
    }
   },
   "types_to_exclude": [
    "module",
    "function",
    "builtin_function_or_method",
    "instance",
    "_Feature"
   ],
   "window_display": false
  }
 },
 "nbformat": 4,
 "nbformat_minor": 2
}
