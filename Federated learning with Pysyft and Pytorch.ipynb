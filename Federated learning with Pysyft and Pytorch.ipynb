{
 "cells": [
  {
   "cell_type": "markdown",
   "metadata": {},
   "source": [
    "## Import libraries"
   ]
  },
  {
   "cell_type": "code",
   "execution_count": 277,
   "metadata": {},
   "outputs": [
    {
     "name": "stdout",
     "output_type": "stream",
     "text": [
      "Requirement already satisfied: matplotlib in d:\\anaconda3\\envs\\spam_classifier\\lib\\site-packages (3.5.1)\n",
      "Requirement already satisfied: python-dateutil>=2.7 in d:\\anaconda3\\envs\\spam_classifier\\lib\\site-packages (from matplotlib) (2.8.2)\n",
      "Requirement already satisfied: kiwisolver>=1.0.1 in d:\\anaconda3\\envs\\spam_classifier\\lib\\site-packages (from matplotlib) (1.3.2)\n",
      "Requirement already satisfied: packaging>=20.0 in d:\\anaconda3\\envs\\spam_classifier\\lib\\site-packages (from matplotlib) (21.3)\n",
      "Requirement already satisfied: fonttools>=4.22.0 in d:\\anaconda3\\envs\\spam_classifier\\lib\\site-packages (from matplotlib) (4.29.0)\n",
      "Requirement already satisfied: pyparsing>=2.2.1 in d:\\anaconda3\\envs\\spam_classifier\\lib\\site-packages (from matplotlib) (3.0.6)\n",
      "Requirement already satisfied: cycler>=0.10 in d:\\anaconda3\\envs\\spam_classifier\\lib\\site-packages (from matplotlib) (0.11.0)\n",
      "Requirement already satisfied: pillow>=6.2.0 in d:\\anaconda3\\envs\\spam_classifier\\lib\\site-packages (from matplotlib) (9.0.0)\n",
      "Requirement already satisfied: numpy>=1.17 in d:\\anaconda3\\envs\\spam_classifier\\lib\\site-packages (from matplotlib) (1.18.5)\n",
      "Requirement already satisfied: six>=1.5 in d:\\anaconda3\\envs\\spam_classifier\\lib\\site-packages (from python-dateutil>=2.7->matplotlib) (1.16.0)\n"
     ]
    }
   ],
   "source": [
    "!pip install matplotlib"
   ]
  },
  {
   "cell_type": "code",
   "execution_count": 278,
   "metadata": {
    "ExecuteTime": {
     "end_time": "2019-06-03T19:33:40.160008Z",
     "start_time": "2019-06-03T19:33:39.344527Z"
    }
   },
   "outputs": [
    {
     "name": "stdout",
     "output_type": "stream",
     "text": [
      "True\n"
     ]
    }
   ],
   "source": [
    "import numpy as np\n",
    "from sklearn.metrics import roc_auc_score, accuracy_score, f1_score\n",
    "import matplotlib.pyplot as plt\n",
    "\n",
    "import torch\n",
    "from torch import nn, optim\n",
    "from torch.utils.data import TensorDataset, DataLoader\n",
    "\n",
    "import warnings\n",
    "from pprint import pprint\n",
    "warnings.filterwarnings(\"ignore\")\n",
    "\n",
    "import pandas as pd\n",
    "import re\n",
    "from nltk.corpus import stopwords\n",
    "\n",
    "import syft as sy\n",
    "print(torch.cuda.is_available())"
   ]
  },
  {
   "cell_type": "code",
   "execution_count": 279,
   "metadata": {},
   "outputs": [],
   "source": [
    "STOPWORDS = set(stopwords.words('indonesian'))\n",
    "# print(f\"STOPWORDS:\\n {STOPWORDS}\")\n",
    "\n",
    "def clean_text(text):\n",
    "#     print(f\"\\n\\nOriginal Text: {text}\")\n",
    "    text = text.lower()\n",
    "#     print(f\"\\nCase Lowered Text: {text}\")\n",
    "    text = re.sub(r'[^a-z\\s]', '', text)\n",
    "#     print(f\"\\nRegexed Text: {text}\")\n",
    "    text = ' '.join([word for word in text.split() if word not in STOPWORDS])\n",
    "#     print(f\"\\nStopwords Removed Text: {text}\")\n",
    "    return text\n",
    "\n",
    "def tokenize(text, word_to_idx):\n",
    "    tokens = []\n",
    "    for word in text.split():\n",
    "        if word in word_to_idx:\n",
    "            tokens.append(word_to_idx[word])\n",
    "        else:\n",
    "            tokens.append(0)\n",
    "    return tokens\n",
    "\n",
    "def pad_and_truncate(messages, max_length=30):\n",
    "    features = np.zeros((len(messages), max_length), dtype=int)\n",
    "#     pprint(f\"Messages: {messages}\\nFeatures: {features}\")\n",
    "    for i, sms in enumerate(messages):\n",
    "#         print(f\"\\ni: {i}\\nSMS:{sms}\")\n",
    "        if len(sms):\n",
    "            features[i, -len(sms):] = sms[:max_length]\n",
    "    return features\n",
    "\n",
    "\n",
    "if __name__ == '__main__':\n",
    "    data = pd.read_csv('dataset_sms_spam_v1.csv', sep=',', names=['Teks', 'Label'])\n",
    "    data = data.sample(frac = 1)\n",
    "    #Lowercase, remove unnecessary char with regex, remove stop words\n",
    "    data.Teks = data.Teks.apply(clean_text)\n",
    "#     print(data.Teks)\n",
    "    words = set((' '.join(data.Teks)).split())\n",
    "#     print(words)\n",
    "    word_to_idx = {word: i for i, word in enumerate(words, start=1)}\n",
    "#     pprint(word_to_idx)\n",
    "    tokens = data.Teks.apply(lambda x: tokenize(x, word_to_idx))\n",
    "#     print(tokens)\n",
    "    inputs = pad_and_truncate(tokens)\n",
    "#     pprint(inputs)\n",
    "    labels = np.array((data.Label == '1').astype(int))\n",
    "\n",
    "    np.save('labels.npy', labels)\n",
    "    np.save('inputs.npy', inputs)"
   ]
  },
  {
   "cell_type": "markdown",
   "metadata": {},
   "source": [
    "## Loading data"
   ]
  },
  {
   "cell_type": "code",
   "execution_count": 280,
   "metadata": {
    "ExecuteTime": {
     "end_time": "2019-06-03T19:33:40.172746Z",
     "start_time": "2019-06-03T19:33:40.163793Z"
    }
   },
   "outputs": [],
   "source": [
    "inputs = np.load('inputs.npy')\n",
    "labels = np.load('labels.npy')"
   ]
  },
  {
   "cell_type": "code",
   "execution_count": 281,
   "metadata": {
    "ExecuteTime": {
     "end_time": "2019-06-03T19:33:40.182467Z",
     "start_time": "2019-06-03T19:33:40.176346Z"
    }
   },
   "outputs": [],
   "source": [
    "VOCAB_SIZE = int(inputs.max()) + 1"
   ]
  },
  {
   "cell_type": "markdown",
   "metadata": {},
   "source": [
    "## Training model with Federated learning"
   ]
  },
  {
   "cell_type": "markdown",
   "metadata": {},
   "source": [
    "### Training and model hyperparameters"
   ]
  },
  {
   "cell_type": "code",
   "execution_count": 282,
   "metadata": {
    "ExecuteTime": {
     "end_time": "2019-06-03T19:33:40.207763Z",
     "start_time": "2019-06-03T19:33:40.201292Z"
    }
   },
   "outputs": [],
   "source": [
    "# Training params\n",
    "EPOCHS = 15\n",
    "CLIP = 5 # gradient clipping - to avoid gradient explosion (frequent in RNNs)\n",
    "lr = 0.1\n",
    "BATCH_SIZE = 32\n",
    "\n",
    "# Model params\n",
    "EMBEDDING_DIM = 50\n",
    "HIDDEN_DIM = 10\n",
    "DROPOUT = 0.2"
   ]
  },
  {
   "cell_type": "markdown",
   "metadata": {},
   "source": [
    "### Initiating virtual workers with Pysyft"
   ]
  },
  {
   "cell_type": "code",
   "execution_count": 283,
   "metadata": {
    "ExecuteTime": {
     "end_time": "2019-06-03T19:33:40.197935Z",
     "start_time": "2019-06-03T19:33:40.186270Z"
    }
   },
   "outputs": [
    {
     "name": "stdout",
     "output_type": "stream",
     "text": [
      "Train Labels: [:-228]\n",
      "Train Inputs: [:-228]\n",
      "Test Labels: [-228:]\n",
      "Test Inputs: [-228:]\n",
      "Length Labels: 1144\n",
      "20% of Length Labels: 228.8\n"
     ]
    }
   ],
   "source": [
    "labels = torch.tensor(labels)\n",
    "inputs = torch.tensor(inputs)\n",
    "\n",
    "# splitting training and test data\n",
    "# 20% of the data will be for Tests.\n",
    "pct_test = 0.2\n",
    "\n",
    "#20% of total data\n",
    "pct_test_count = -int(len(labels)*pct_test)\n",
    "\n",
    "# Get 80% of Train LABELS from left.\n",
    "train_labels = labels[:pct_test_count]\n",
    "print(f\"Train Labels: [:{pct_test_count}]\")\n",
    "\n",
    "# Get 80% of Train INPUTS from left.\n",
    "train_inputs = inputs[:pct_test_count]\n",
    "print(f\"Train Inputs: [:{pct_test_count}]\")\n",
    "\n",
    "# Get the rest of the LABEL data for test on the right (20%) \n",
    "test_labels = labels[pct_test_count:]\n",
    "print(f\"Test Labels: [{pct_test_count}:]\")\n",
    "\n",
    "# Get the rest of the INPUT data for test on the right (20%)\n",
    "test_inputs = inputs[pct_test_count:]\n",
    "print(f\"Test Inputs: [{pct_test_count}:]\")\n",
    "\n",
    "print(f\"Length Labels: {len(labels)}\")\n",
    "print(f\"20% of Length Labels: {len(labels)*pct_test}\")"
   ]
  },
  {
   "cell_type": "code",
   "execution_count": 284,
   "metadata": {
    "ExecuteTime": {
     "end_time": "2019-06-03T19:33:42.591430Z",
     "start_time": "2019-06-03T19:33:41.969220Z"
    }
   },
   "outputs": [
    {
     "name": "stderr",
     "output_type": "stream",
     "text": [
      "WARNING:root:Torch was already hooked... skipping hooking process\n"
     ]
    }
   ],
   "source": [
    "# Hook that extends the Pytorch library to enable all computations with pointers of tensors sent to other workers\n",
    "hook = sy.TorchHook(torch)\n",
    "\n",
    "# Creating 2 virtual workers\n",
    "bob = sy.VirtualWorker(hook, id=\"bob\")\n",
    "anne = sy.VirtualWorker(hook, id=\"anne\")\n",
    "\n",
    "# threshold indexes for dataset split (one half for Bob, other half for Anne)\n",
    "train_idx = int(len(train_labels)/2)\n",
    "test_idx = int(len(test_labels)/2)\n",
    "\n",
    "# Sending toy datasets to virtual workers\n",
    "bob_train_dataset = sy.BaseDataset(train_inputs[:train_idx], train_labels[:train_idx]).send(bob)\n",
    "anne_train_dataset = sy.BaseDataset(train_inputs[train_idx:], train_labels[train_idx:]).send(anne)\n",
    "bob_test_dataset = sy.BaseDataset(test_inputs[:test_idx], test_labels[:test_idx]).send(bob)\n",
    "anne_test_dataset = sy.BaseDataset(test_inputs[test_idx:], test_labels[test_idx:]).send(anne)\n",
    "\n",
    "# Creating federated datasets, an extension of Pytorch TensorDataset class\n",
    "federated_train_dataset = sy.FederatedDataset([bob_train_dataset, anne_train_dataset])\n",
    "federated_test_dataset = sy.FederatedDataset([bob_test_dataset, anne_test_dataset])\n",
    "\n",
    "# Creating federated dataloaders, an extension of Pytorch DataLoader class\n",
    "federated_train_loader = sy.FederatedDataLoader(federated_train_dataset, shuffle=True, batch_size=BATCH_SIZE)\n",
    "federated_test_loader = sy.FederatedDataLoader(federated_test_dataset, shuffle=True, batch_size=BATCH_SIZE)"
   ]
  },
  {
   "cell_type": "code",
   "execution_count": 285,
   "metadata": {
    "ExecuteTime": {
     "end_time": "2019-06-03T19:33:42.613017Z",
     "start_time": "2019-06-03T19:33:42.598004Z"
    }
   },
   "outputs": [],
   "source": [
    "from handcrafted_GRU import GRU"
   ]
  },
  {
   "cell_type": "code",
   "execution_count": 286,
   "metadata": {
    "ExecuteTime": {
     "end_time": "2019-06-03T19:33:42.638046Z",
     "start_time": "2019-06-03T19:33:42.617601Z"
    }
   },
   "outputs": [],
   "source": [
    "# Initiating the model\n",
    "model = GRU(vocab_size=VOCAB_SIZE, hidden_dim=HIDDEN_DIM, embedding_dim=EMBEDDING_DIM, dropout=DROPOUT)"
   ]
  },
  {
   "cell_type": "markdown",
   "metadata": {},
   "source": [
    "### Training"
   ]
  },
  {
   "cell_type": "markdown",
   "metadata": {},
   "source": [
    "For now, PySyft does not support optimizers with momentum. Therefore, we are going to stick with the classical [Stochastic Gradient Descent](https://pytorch.org/docs/stable/optim.html#torch.optim.SGD) optimizer.\n",
    "\n",
    "As our task consists of a binary classification, we are going to use the [Binary Cross Entropy Loss](https://pytorch.org/docs/stable/nn.html#torch.nn.BCELoss)."
   ]
  },
  {
   "cell_type": "code",
   "execution_count": 287,
   "metadata": {
    "ExecuteTime": {
     "end_time": "2019-06-03T20:00:23.084933Z",
     "start_time": "2019-06-03T20:00:23.078688Z"
    }
   },
   "outputs": [],
   "source": [
    "# Defining loss and optimizer\n",
    "criterion = nn.BCELoss()\n",
    "optimizer = optim.SGD(model.parameters(), lr=lr)"
   ]
  },
  {
   "cell_type": "markdown",
   "metadata": {},
   "source": [
    "For each epoch we are going to compute the training and validations losses, as well as the [Area Under the ROC Curve](https://scikit-learn.org/stable/modules/model_evaluation.html#roc-metrics) score due to the fact that the target dataset is unbalaced (only 13% of labels are positive)."
   ]
  },
  {
   "cell_type": "code",
   "execution_count": null,
   "metadata": {
    "ExecuteTime": {
     "end_time": "2019-06-03T19:56:01.459697Z",
     "start_time": "2019-06-03T19:33:42.666174Z"
    },
    "code_folding": []
   },
   "outputs": [
    {
     "name": "stdout",
     "output_type": "stream",
     "text": [
      "'TEST PREDS: 0.41867971420288086   TEST LABELS LIST: 0'\n",
      "Epoch 1/15...      AUC: 53.971%...      Training loss: 0.67248...      Validation loss: 0.64164\n",
      "'TEST PREDS: 0.33084583282470703   TEST LABELS LIST: 0'\n",
      "Epoch 2/15...      AUC: 58.360%...      Training loss: 0.59223...      Validation loss: 0.62717\n",
      "'TEST PREDS: 0.4604192078113556   TEST LABELS LIST: 0'\n",
      "Epoch 3/15...      AUC: 62.562%...      Training loss: 0.57268...      Validation loss: 0.61095\n",
      "'TEST PREDS: 0.4242745041847229   TEST LABELS LIST: 0'\n",
      "Epoch 4/15...      AUC: 65.349%...      Training loss: 0.54566...      Validation loss: 0.59848\n",
      "'TEST PREDS: 0.47984179854393005   TEST LABELS LIST: 1'\n",
      "Epoch 5/15...      AUC: 68.287%...      Training loss: 0.53188...      Validation loss: 0.59592\n",
      "'TEST PREDS: 0.08931553363800049   TEST LABELS LIST: 0'\n",
      "Epoch 6/15...      AUC: 70.219%...      Training loss: 0.50605...      Validation loss: 0.56520\n"
     ]
    }
   ],
   "source": [
    "train_losses = []\n",
    "test_losses = []\n",
    "for e in range(EPOCHS):\n",
    "    \n",
    "    ######### Training ##########\n",
    "    \n",
    "    losses = []\n",
    "    # Batch loop\n",
    "    for inputs, labels in federated_train_loader:\n",
    "        # Location of current batch\n",
    "        worker = inputs.location\n",
    "        # Initialize hidden state and send it to worker\n",
    "        h = torch.Tensor(np.zeros((BATCH_SIZE, HIDDEN_DIM))).send(worker)\n",
    "        # Send model to current worker\n",
    "        model.send(worker)\n",
    "        # Setting accumulated gradients to zero before backward step\n",
    "        optimizer.zero_grad()\n",
    "        # Output from the model\n",
    "        output, _ = model(inputs.to(torch.long), h)\n",
    "        # Calculate the loss and perform backprop\n",
    "        loss = criterion(output.squeeze(), labels.float())\n",
    "        loss.backward()\n",
    "        # Clipping the gradient to avoid explosion\n",
    "        nn.utils.clip_grad_norm_(model.parameters(), CLIP)\n",
    "        # Backpropagation step\n",
    "        optimizer.step() \n",
    "        # Get the model back to the local worker\n",
    "        model.get()\n",
    "        losses.append(loss.get())\n",
    "    \n",
    "    ######## Evaluation ##########\n",
    "    \n",
    "    # Model in evaluation mode\n",
    "    model.eval()\n",
    "\n",
    "    with torch.no_grad():\n",
    "        test_preds = []\n",
    "        test_labels_list = []\n",
    "        eval_losses = []\n",
    "\n",
    "        for inputs, labels in federated_test_loader:\n",
    "            # get current location\n",
    "            worker = inputs.location\n",
    "            # Initialize hidden state and send it to worker\n",
    "            h = torch.Tensor(np.zeros((BATCH_SIZE, HIDDEN_DIM))).send(worker)    \n",
    "            # Send model to worker\n",
    "            model.send(worker)\n",
    "\n",
    "            output, _ = model(inputs.to(torch.long), h)\n",
    "            loss = criterion(output.squeeze(), labels.float())\n",
    "            eval_losses.append(loss.get())\n",
    "            preds = output.squeeze().get()\n",
    "            test_preds += list(preds.numpy())\n",
    "            test_labels_list += list(labels.get().numpy().astype(int))\n",
    "            # Get the model back to the local worker\n",
    "            model.get()\n",
    "\n",
    "    #Check test preds\n",
    "    pprint(f\"TEST PREDS: {test_preds[0]}   TEST LABELS LIST: {test_labels_list[0]}\")\n",
    "    score = roc_auc_score(test_labels_list, test_preds)\n",
    "\n",
    "    train_loss = sum(losses)/len(losses)\n",
    "    eval_loss = sum(eval_losses)/len(eval_losses)\n",
    "    train_losses.append(train_loss.item())\n",
    "    test_losses.append(eval_loss.item())\n",
    "    \n",
    "    print(\"Epoch {}/{}...  \\\n",
    "    AUC: {:.3%}...  \\\n",
    "    Training loss: {:.5f}...  \\\n",
    "    Validation loss: {:.5f}\".format(e+1, EPOCHS, score, train_loss, eval_loss))\n",
    "    \n",
    "    model.train()"
   ]
  },
  {
   "cell_type": "markdown",
   "metadata": {},
   "source": [
    "### Plot Losses"
   ]
  },
  {
   "cell_type": "code",
   "execution_count": 23,
   "metadata": {},
   "outputs": [
    {
     "name": "stdout",
     "output_type": "stream",
     "text": [
      "Train Losses: [0.6914631724357605, 0.6322644352912903, 0.608394980430603, 0.5939294695854187, 0.5922083258628845, 0.5801754593849182, 0.5588728785514832, 0.5418279767036438, 0.5165913105010986, 0.5054436922073364, 0.48096799850463867, 0.4372141659259796, 0.41798967123031616, 0.39870181679725647, 0.3661279082298279]\n"
     ]
    },
    {
     "data": {
      "image/png": "[encoded data removed]",
      "text/plain": [
       "<Figure size 432x288 with 1 Axes>"
      ]
     },
     "metadata": {
      "needs_background": "light"
     },
     "output_type": "display_data"
    }
   ],
   "source": [
    "print(f\"Train Losses: {train_losses}\")\n",
    "plt.plot(train_losses, 'r')\n",
    "plt.plot(test_losses, 'b')\n",
    "plt.legend(['Training Loss', 'Test Loss'])\n",
    "plt.xlabel('Epoch')\n",
    "plt.ylabel('Train Loss')\n",
    "plt.show()"
   ]
  },
  {
   "cell_type": "markdown",
   "metadata": {},
   "source": [
    "### Saving model for inference"
   ]
  },
  {
   "cell_type": "code",
   "execution_count": 24,
   "metadata": {},
   "outputs": [
    {
     "data": {
      "text/plain": [
       "GRU(\n",
       "  (dropout): Dropout(p=0.2, inplace=False)\n",
       "  (embedding): Embedding(4174, 50)\n",
       "  (gru_cell): GRUCell(\n",
       "    (fc_ir): Linear(in_features=50, out_features=10, bias=True)\n",
       "    (fc_hr): Linear(in_features=10, out_features=10, bias=True)\n",
       "    (fc_iz): Linear(in_features=50, out_features=10, bias=True)\n",
       "    (fc_hz): Linear(in_features=10, out_features=10, bias=True)\n",
       "    (fc_in): Linear(in_features=50, out_features=10, bias=True)\n",
       "    (fc_hn): Linear(in_features=10, out_features=10, bias=True)\n",
       "  )\n",
       "  (fc): Linear(in_features=10, out_features=1, bias=True)\n",
       "  (sigmoid): Sigmoid()\n",
       ")"
      ]
     },
     "execution_count": 24,
     "metadata": {},
     "output_type": "execute_result"
    }
   ],
   "source": [
    "# Save\n",
    "PATH = \"state_dict_model.pt\"\n",
    "torch.save(model.state_dict(), PATH)"
   ]
  },
  {
   "cell_type": "markdown",
   "metadata": {},
   "source": [
    "### Load Model"
   ]
  },
  {
   "cell_type": "code",
   "execution_count": 165,
   "metadata": {},
   "outputs": [
    {
     "data": {
      "text/plain": [
       "GRU(\n",
       "  (dropout): Dropout(p=0.2, inplace=False)\n",
       "  (embedding): Embedding(4174, 50)\n",
       "  (gru_cell): GRUCell(\n",
       "    (fc_ir): Linear(in_features=50, out_features=10, bias=True)\n",
       "    (fc_hr): Linear(in_features=10, out_features=10, bias=True)\n",
       "    (fc_iz): Linear(in_features=50, out_features=10, bias=True)\n",
       "    (fc_hz): Linear(in_features=10, out_features=10, bias=True)\n",
       "    (fc_in): Linear(in_features=50, out_features=10, bias=True)\n",
       "    (fc_hn): Linear(in_features=10, out_features=10, bias=True)\n",
       "  )\n",
       "  (fc): Linear(in_features=10, out_features=1, bias=True)\n",
       "  (sigmoid): Sigmoid()\n",
       ")"
      ]
     },
     "execution_count": 165,
     "metadata": {},
     "output_type": "execute_result"
    }
   ],
   "source": [
    "PATH = \"state_dict_model.pt\"\n",
    "model = GRU(vocab_size=VOCAB_SIZE, hidden_dim=HIDDEN_DIM, embedding_dim=EMBEDDING_DIM, dropout=DROPOUT)\n",
    "model.load_state_dict(torch.load(PATH))\n",
    "model.eval()"
   ]
  },
  {
   "cell_type": "markdown",
   "metadata": {},
   "source": [
    "### Ask for input and pre-process text"
   ]
  },
  {
   "cell_type": "code",
   "execution_count": 42,
   "metadata": {},
   "outputs": [
    {
     "name": "stdout",
     "output_type": "stream",
     "text": [
      "selamat juta\n",
      "['selamat', 'juta']\n",
      "Tokens:[0, 0, 0, 0, 0]\n",
      "\n",
      "Padded Inputs: [[0 0 0 0 0 0 0 0 0 0 0 0 0 0 0 0 0 0 0 0 0 0 0 0 0 0 0 0 0 0]]\n"
     ]
    }
   ],
   "source": [
    "# text = \"Selamat Anda Mendapatkan 50 JUTA!\"\n",
    "# ctext = clean_text(text)\n",
    "# print(ctext)\n",
    "# words = ctext.split()\n",
    "# print(words)\n",
    "# words = set((' '.join(words)).split())\n",
    "# token_holder = []\n",
    "# tokens = tokenize(text, word_to_idx)\n",
    "# print(f\"Tokens:{tokens}\")\n",
    "# # print(word_to_idx)\n",
    "# token_holder.append(tokens)\n",
    "# inference_input = pad_and_truncate(token_holder)\n",
    "# print(f\"\\nPadded Inputs: {inference_input}\")"
   ]
  },
  {
   "cell_type": "code",
   "execution_count": 164,
   "metadata": {},
   "outputs": [],
   "source": [
    "data = pd.read_csv('dataset_sms_spam_v1.csv', sep=',', names=['Teks', 'Label'])\n",
    "data = data.sample(frac = 1)\n",
    "# Lowercase, remove unnecessary char with regex, remove stop words\n",
    "data.Teks = data.Teks.apply(clean_text)\n",
    "#     print(data.Teks)\n",
    "words = set((' '.join(data.Teks)).split())\n",
    "#     print(words)\n",
    "word_to_idx = {word: i for i, word in enumerate(words, start=1)}\n",
    "#     pprint(word_to_idx)\n",
    "tokens = data.Teks.apply(lambda x: tokenize(x, word_to_idx))\n",
    "#     print(tokens)\n",
    "inputs = pad_and_truncate(tokens)\n",
    "#     pprint(inputs)\n",
    "labels = np.array((data.Label == '1').astype(int))\n",
    "\n",
    "np.save('test_labels.npy', labels)\n",
    "np.save('test_inputs.npy', inputs)\n",
    "\n",
    "test_inputs = torch.tensor(np.load('test_inputs.npy'))\n",
    "test_labels = torch.tensor(np.load('test_labels.npy'))"
   ]
  },
  {
   "cell_type": "code",
   "execution_count": 208,
   "metadata": {},
   "outputs": [],
   "source": [
    "from torch.utils.data import DataLoader, TensorDataset"
   ]
  },
  {
   "cell_type": "code",
   "execution_count": 274,
   "metadata": {},
   "outputs": [
    {
     "name": "stdout",
     "output_type": "stream",
     "text": [
      "'TEST PREDS: 0.37878432869911194   TEST LABELS LIST: 1'\n",
      "ROC Accuracy Score: 0.5530837776506836\n"
     ]
    }
   ],
   "source": [
    "criterion = nn.BCELoss()\n",
    "optimizer = optim.SGD(model.parameters(), lr=lr)\n",
    "\n",
    "test_dataset = TensorDataset(test_inputs, test_labels)\n",
    "test_loader = DataLoader(test_dataset, batch_size=BATCH_SIZE, shuffle=True)\n",
    "\n",
    "test_losses = []\n",
    "\n",
    "with torch.no_grad():\n",
    "    test_preds = []\n",
    "    test_labels_list = []\n",
    "    eval_losses = []\n",
    "\n",
    "    for inputs, labels in test_loader:\n",
    "        h = torch.Tensor(np.zeros((BATCH_SIZE, HIDDEN_DIM)))\n",
    "\n",
    "        output, _ = model(inputs.to(torch.long), h)\n",
    "        loss = criterion(output.squeeze(), labels.float())\n",
    "        eval_losses.append(loss)\n",
    "        preds = output.squeeze()\n",
    "        test_preds += list(preds.numpy())\n",
    "        test_labels_list += list(labels.numpy().astype(int))\n",
    "\n",
    "\n",
    "acc_score = roc_auc_score(test_labels_list, test_preds)\n",
    "\n",
    "# The test predictions are in probability, best method to calculate accuracy?\n",
    "pprint(f\"TEST PREDS: {test_preds[0]}   TEST LABELS LIST: {test_labels_list[0]}\")\n",
    "print(f\"ROC Accuracy Score: {acc_score}\")\n",
    "    "
   ]
  },
  {
   "cell_type": "code",
   "execution_count": 114,
   "metadata": {},
   "outputs": [],
   "source": [
    "# predict(global_federated_test_loader)"
   ]
  }
 ],
 "metadata": {
  "hide_input": false,
  "kernelspec": {
   "display_name": "Python 3",
   "language": "python",
   "name": "python3"
  },
  "language_info": {
   "codemirror_mode": {
    "name": "ipython",
    "version": 3
   },
   "file_extension": ".py",
   "mimetype": "text/x-python",
   "name": "python",
   "nbconvert_exporter": "python",
   "pygments_lexer": "ipython3",
   "version": "3.7.1"
  },
  "toc": {
   "base_numbering": 1,
   "nav_menu": {},
   "number_sections": true,
   "sideBar": true,
   "skip_h1_title": true,
   "title_cell": "Table of Contents",
   "title_sidebar": "Contents",
   "toc_cell": false,
   "toc_position": {},
   "toc_section_display": true,
   "toc_window_display": false
  },
  "varInspector": {
   "cols": {
    "lenName": 16,
    "lenType": 16,
    "lenVar": 40
   },
   "kernels_config": {
    "python": {
     "delete_cmd_postfix": "",
     "delete_cmd_prefix": "del ",
     "library": "var_list.py",
     "varRefreshCmd": "print(var_dic_list())"
    },
    "r": {
     "delete_cmd_postfix": ") ",
     "delete_cmd_prefix": "rm(",
     "library": "var_list.r",
     "varRefreshCmd": "cat(var_dic_list()) "
    }
   },
   "types_to_exclude": [
    "module",
    "function",
    "builtin_function_or_method",
    "instance",
    "_Feature"
   ],
   "window_display": false
  }
 },
 "nbformat": 4,
 "nbformat_minor": 2
}
